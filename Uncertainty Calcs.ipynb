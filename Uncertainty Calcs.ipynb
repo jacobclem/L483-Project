{
 "cells": [
  {
   "cell_type": "code",
   "execution_count": 170,
   "metadata": {},
   "outputs": [],
   "source": [
    "import numpy as np\n",
    "import math as m\n",
    "import astropy\n",
    "import aplpy\n",
    "import matplotlib.pyplot as plt\n",
    "from matplotlib.pyplot import figure\n",
    "%matplotlib inline\n",
    "from astropy.io import fits\n",
    "from astropy.utils.data import download_file\n",
    "from astropy.wcs import WCS\n",
    "from astropy import units as u\n",
    "from astropy.coordinates import SkyCoord\n",
    "from astropy.wcs.utils import skycoord_to_pixel\n",
    "from astropy.wcs.utils import pixel_to_skycoord\n",
    "from astropy.utils.data import get_pkg_data_filename\n",
    "import matplotlib.patheffects as PathEffects\n",
    "import scipy.optimize as opt\n",
    "import sympy as sym"
   ]
  },
  {
   "cell_type": "code",
   "execution_count": 171,
   "metadata": {},
   "outputs": [
    {
     "name": "stderr",
     "output_type": "stream",
     "text": [
      "WARNING: FITSFixedWarning: 'obsfix' made the change 'Set OBSGEO-L to  -155.477072 from OBSGEO-[XYZ].\n",
      "Set OBSGEO-B to    19.822855 from OBSGEO-[XYZ].\n",
      "Set OBSGEO-H to     4120.022 from OBSGEO-[XYZ]'. [astropy.wcs.wcs]\n"
     ]
    }
   ],
   "source": [
    "Ihdu_list = fits.open('l483_iext_mJysqa_8as.fits')\n",
    "Ihdu = fits.open('l483_iext_mJysqa_8as.fits')[0]\n",
    "Iwcs = WCS(Ihdu.header)\n",
    "#Ihdu.header\n",
    "Iimage_data = Ihdu_list[0].data\n",
    "\n",
    "IVar = Ihdu_list[1].data\n",
    "\n",
    "\n",
    "IData = []\n",
    "IPolData = []\n",
    "for i in range(0, len(Iimage_data[0])):\n",
    "    for j in range(0, len(Iimage_data[0][i])):\n",
    "        IPolData.append([j,i,Iimage_data[0][i][j]])\n",
    "        IData.append(Iimage_data[0][i][j])\n",
    "        \n",
    "IVarData = []\n",
    "for i in range(0, len(IVar[0])):\n",
    "    for j in range(0, len(IVar[0][i])):\n",
    "        IVarData.append([j,i,IVar[0][i][j]])\n",
    "        \n",
    "\n",
    "        \n",
    "        \n",
    "Qhdu_list = fits.open('l483_qext_mJysqa_8as.fits')\n",
    "Qhdu = fits.open('l483_qext_mJysqa_8as.fits')[0]\n",
    "Qwcs = WCS(Qhdu.header)\n",
    "#Qhdu.header\n",
    "Qimage_data = Qhdu_list[0].data\n",
    "\n",
    "QVar = Qhdu_list[1].data\n",
    "\n",
    "QData = []\n",
    "QPolData = []\n",
    "for i in range(0, len(Qimage_data[0])):\n",
    "    for j in range(0, len(Qimage_data[0][i])):\n",
    "        #print([i,j,Qimage_data[0][i][j]])\n",
    "        QPolData.append([j,i,Qimage_data[0][i][j]])\n",
    "        QData.append(Qimage_data[0][i][j])\n",
    "\n",
    "QVarData = []\n",
    "for i  in range(0, len(QVar[0])):\n",
    "    for j in range(0, len(QVar[0][i])):\n",
    "        #print([i,j,QVar[0][i][j]])\n",
    "        QVarData.append([j,i,QVar[0][i][j]])\n",
    "        \n",
    "        \n",
    "\n",
    "        \n",
    "Uhdu_list = fits.open('l483_uext_mJysqa_8as.fits')\n",
    "Uhdu = fits.open('l483_uext_mJysqa_8as.fits')[0]\n",
    "Uwcs = WCS(Uhdu.header)\n",
    "#Uhdu.header\n",
    "Uimage_data = Uhdu_list[0].data\n",
    "\n",
    "UVar = Uhdu_list[1].data\n",
    "\n",
    "\n",
    "UData = []\n",
    "UPolData = []\n",
    "for i in range(0, len(Uimage_data[0])):\n",
    "    for j in range(0, len(Uimage_data[0][i])):\n",
    "        UPolData.append([j,i,Uimage_data[0][i][j]])\n",
    "        UData.append(Uimage_data[0][i][j])\n",
    "        \n",
    "UVarData = []\n",
    "for i in range(0, len(UVar[0])):\n",
    "    for j in range(0, len(UVar[0][i])):\n",
    "        UVarData.append([j,i,UVar[0][i][j]])\n",
    "        \n",
    "        \n",
    "        \n",
    "        \n",
    "        \n",
    "PolDataC = []\n",
    "for i in range(0,len(QPolData)):\n",
    "    PolDataC.append([QPolData[i][0],QPolData[i][1],IPolData[i][2],QPolData[i][2],UPolData[i][2]])\n",
    "    \n",
    "PolVar = []\n",
    "for i in range(0,len(QVarData)):\n",
    "    PolVar.append([QVarData[i][0],QVarData[i][1],IVarData[i][2],QVarData[i][2],UVarData[i][2]])\n",
    "    \n",
    "sigI=0.02718023855912932"
   ]
  },
  {
   "cell_type": "code",
   "execution_count": 172,
   "metadata": {},
   "outputs": [],
   "source": [
    "kv = 0.00125\n",
    "h=6.62607004*10**(-34)\n",
    "c=3*10**8\n",
    "k=1.38064852*10**(-23)\n",
    "v = c / 0.00085\n",
    "a = (2.0*h*v**3)\n",
    "distance = 6.171*10**18\n",
    "\n",
    "\n",
    "def mass(flux, temp, kv1): \n",
    "    b = (h*v)/(k*temp)\n",
    "    intensity = a/ ((c**2)*(np.exp(b) - 1.0))  \n",
    "    \n",
    "    flux = (flux*(10**(-26)))/1000\n",
    "    \n",
    "    mass = (flux*(distance**2))/(kv1*intensity)\n",
    "\n",
    "    return mass"
   ]
  },
  {
   "cell_type": "markdown",
   "metadata": {},
   "source": [
    "massList10 = []\n",
    "massList13 = []\n",
    "massList18 = []\n",
    "\n",
    "pixDistList = []\n",
    "\n",
    "totalMass10 = 0\n",
    "totalMass13 = 0\n",
    "totalMass18 = 0\n",
    "\n",
    "massDisk10 = []\n",
    "massDisk13 = []\n",
    "massDisk18 = []\n",
    "\n",
    "densDisk10 = []\n",
    "densDisk13 = []\n",
    "densDisk18 = []\n",
    "\n",
    "densDisk10.clear()\n",
    "densDisk13.clear()\n",
    "densDisk18.clear()\n",
    "\n",
    "massDisk10.clear()\n",
    "massDisk13.clear()\n",
    "massDisk18.clear()\n",
    "\n",
    "\n",
    "\n",
    "for j in range(0,13):\n",
    "    \n",
    "    pixels = 0\n",
    "    pixDistList.append(j)\n",
    "    \n",
    "    diskMass10 = 0\n",
    "    diskMass13 = 0\n",
    "    diskMass18 = 0\n",
    "    \n",
    "    for i in range(len(IPolData)):\n",
    "        \n",
    "        if IPolData[i][2] != 0:\n",
    "            \n",
    "            spacing = np.sqrt((IPolData[i][0]-74)**2+(IPolData[i][1]-67)**2)\n",
    "            \n",
    "            if spacing <= j:\n",
    "                \n",
    "                pixels += 1\n",
    "                \n",
    "                #fluxAv += IPolData[i][2]\n",
    "                flux = IPolData[i][2]* 7.99999**2\n",
    "            \n",
    "                plusMass10 = mass(flux,10)\n",
    "                plusMass13 = mass(flux,13)\n",
    "                plusMass18 = mass(flux,18)\n",
    "                \n",
    "                diskMass10 += plusMass10\n",
    "                diskMass13 += plusMass13\n",
    "                diskMass18 += plusMass18\n",
    "                \n",
    "                IPolData[i][2] = 0\n",
    "            \n",
    "                totalMass10 += plusMass10\n",
    "                totalMass13 += plusMass13\n",
    "                totalMass18 += plusMass18\n",
    "    print(pixels)\n",
    "    depth = 2*np.sqrt((8*pixLength)**2-(j*pixLength)**2)\n",
    "    print(depth)\n",
    "    volume = depth * pixLength**2\n",
    "    \n",
    "    \n",
    "    \n",
    "    \n",
    "    massAv10 = diskMass10/pixels\n",
    "    massAv13 = diskMass13/pixels\n",
    "    massAv18 = diskMass18/pixels\n",
    "    #print(\"mass/pix\", massAv10)\n",
    "    #print(\"VOlume\", volume)\n",
    "    \n",
    "    #print('massAv10kg', massAv10kg)\n",
    "    \n",
    "    density10 = massAv10/volume\n",
    "    density13 = massAv13/volume\n",
    "    density18 = massAv18/volume\n",
    "    \n",
    "    #print('massDens', density10)\n",
    "    numDens10 = density10 / ((2.8*(1.67*10**(-27)))* (1*10**6))\n",
    "    numDens13 = density13 / ((2.8*(1.67*10**(-27)))* (1*10**6))\n",
    "    numDens18 = density18 / ((2.8*(1.67*10**(-27)))* (1*10**6))\n",
    "  \n",
    "    massDisk10.append(massAv10)\n",
    "    massDisk13.append(massAv13)\n",
    "    massDisk18.append(massAv18)\n",
    "    \n",
    "    densDisk10.append(numDens10)\n",
    "    densDisk13.append(numDens13)\n",
    "    densDisk18.append(numDens18)\n",
    "    \n",
    "    massList10.append(totalMass10)\n",
    "    massList13.append(totalMass13)\n",
    "    massList18.append(totalMass18)"
   ]
  },
  {
   "cell_type": "code",
   "execution_count": 173,
   "metadata": {},
   "outputs": [],
   "source": [
    "kv_gauss = np.random.normal(kv, 0.5*kv)\n",
    "\n",
    "t_gauss = np.random.normal(13,3)\n",
    "\n"
   ]
  },
  {
   "cell_type": "code",
   "execution_count": 174,
   "metadata": {},
   "outputs": [
    {
     "data": {
      "image/png": "[encoded data removed]",
      "text/plain": [
       "<Figure size 432x288 with 1 Axes>"
      ]
     },
     "metadata": {
      "needs_background": "light"
     },
     "output_type": "display_data"
    }
   ],
   "source": [
    "plt.hist(kv_gauss, 10)\n",
    "plt.show()"
   ]
  },
  {
   "cell_type": "code",
   "execution_count": 175,
   "metadata": {},
   "outputs": [],
   "source": [
    "pixDistList = []\n",
    "\n",
    "maxMassList = []\n",
    "minMassList = []\n",
    "\n",
    "fluxList = []\n",
    "\n",
    "meanMass = []\n",
    "midMass = []\n",
    "\n",
    "plusMassList = []\n",
    "cum_massMax = 0\n",
    "cum_massMin = 0\n",
    "\n",
    "cum_massMaxList = []\n",
    "cum_massMinList = []\n",
    "\n",
    "cum_massIdeal = 0\n",
    "cum_massIdealList = []\n",
    "for j in range(0,13):\n",
    "    pixels = 0\n",
    "    pixDistList.append(j)\n",
    "    fluxList.clear()\n",
    "    diskmass = 0\n",
    "    for i in range(len(IPolData)):\n",
    "        spacing = np.sqrt((IPolData[i][0]-74)**2+(IPolData[i][1]-67)**2)\n",
    "        if spacing <= j:\n",
    "            if IPolData[i][2] != 0 and np.isnan(IPolData[i][2]) == False:  \n",
    "                pixels += 1\n",
    "                if pixels > 1:\n",
    "                    flux = IPolData[i][2]* 7.99999**2\n",
    "                    #print(flux)\n",
    "                    fluxList.append(flux)\n",
    "                    IPolData[i][2] = 0\n",
    "                else:\n",
    "                    flux = IPolData[i][2]* 7.99999**2\n",
    "                    fluxList.append(flux)\n",
    "                    \n",
    "                    \n",
    "    plusMassList.clear()\n",
    "    z = 0\n",
    "    \n",
    "    if len(fluxList) == 1:\n",
    "        while z < 1000:\n",
    "            rand_temp = np.random.normal(13,3)\n",
    "            rand_kv = np.random.normal(kv, 0.5*kv)\n",
    "        \n",
    "            plusMass = mass(fluxList[0],rand_temp,rand_kv)\n",
    "            plusMassList.append(plusMass)\n",
    "            \n",
    "            z+=1\n",
    "            \n",
    "    else:\n",
    "        while z < 1000:\n",
    "            rand_flux = np.random.normal(np.mean(fluxList),np.std(fluxList))\n",
    "            rand_temp = np.random.normal(13,3)\n",
    "            rand_kv = np.random.normal(kv, 0.25*kv)\n",
    "        \n",
    "            plusMass = mass(rand_flux,rand_temp,rand_kv)\n",
    "            plusMassList.append(plusMass)\n",
    "        \n",
    "            z+=1\n",
    "    \n",
    "    for i in range(len(fluxList)):\n",
    "        cum_massIdeal += mass(fluxList[i],13,kv)/(1.989*10**30)\n",
    "    \n",
    "    cum_massIdealList.append(cum_massIdeal)\n",
    "    maxMass = np.quantile(plusMassList, .75)/(1.989*10**30)\n",
    "    minMass = np.quantile(plusMassList, .25)/(1.989*10**30)\n",
    "    \n",
    "    #print(maxMass, pixels)\n",
    "    #print(minMass, pixels)\n",
    "    \n",
    "    cum_massMax += maxMass * pixels\n",
    "    cum_massMin += minMass * pixels\n",
    "    \n",
    "    cum_massMaxList.append(cum_massMax)\n",
    "    cum_massMinList.append(cum_massMin)\n",
    "    \n",
    "    maxMassList.append(maxMass)\n",
    "    minMassList.append(minMass)\n",
    "    \n",
    "    meanMass.append(np.mean(plusMassList)/(1.989*10**30))\n",
    "    midMass.append(np.quantile(plusMassList, .50)/(1.989*10**30))"
   ]
  },
  {
   "cell_type": "code",
   "execution_count": 176,
   "metadata": {},
   "outputs": [
    {
     "name": "stdout",
     "output_type": "stream",
     "text": [
      "11198.076115430396\n"
     ]
    }
   ],
   "source": [
    "pixLength = 2*distance*(np.tan(m.radians(0.001111)))/(1.496*10**11)\n",
    "print(7*pixLength)"
   ]
  },
  {
   "cell_type": "code",
   "execution_count": 177,
   "metadata": {},
   "outputs": [],
   "source": [
    "for i in range(len(pixDistList)):\n",
    "    pixDistList[i] = pixDistList[i]*pixLength"
   ]
  },
  {
   "cell_type": "code",
   "execution_count": 178,
   "metadata": {},
   "outputs": [
    {
     "data": {
      "image/png": "[encoded data removed]",
      "text/plain": [
       "<Figure size 1080x720 with 1 Axes>"
      ]
     },
     "metadata": {
      "needs_background": "light"
     },
     "output_type": "display_data"
    }
   ],
   "source": [
    "plt.rcParams.update({'font.size':20})\n",
    "plt.figure(figsize=(15,10))\n",
    "plt.xlabel('Radius (AU)',fontsize='25')\n",
    "plt.ylabel('Mass',fontsize='25')\n",
    "plt.fill_between(pixDistList,minMassList,maxMassList, alpha = 0.5)\n",
    "#plt.plot(pixDistList,meanMass)\n",
    "plt.plot(pixDistList,midMass)\n",
    "plt.savefig('uncertain_mass.png')\n",
    "plt.show()"
   ]
  },
  {
   "cell_type": "code",
   "execution_count": 179,
   "metadata": {},
   "outputs": [
    {
     "data": {
      "image/png": "[encoded data removed]",
      "text/plain": [
       "<Figure size 1080x720 with 1 Axes>"
      ]
     },
     "metadata": {
      "needs_background": "light"
     },
     "output_type": "display_data"
    }
   ],
   "source": [
    "plt.rcParams.update({'font.size':20})\n",
    "plt.figure(figsize=(15,10))\n",
    "plt.xlabel('Radius (AU)',fontsize='25')\n",
    "plt.ylabel('Mass',fontsize='25')\n",
    "plt.fill_between(pixDistList,cum_massMaxList,cum_massMinList, alpha = 0.5)\n",
    "plt.plot(pixDistList,cum_massIdealList)\n",
    "plt.savefig('uncertain_cum_mass.png')\n",
    "plt.show()"
   ]
  },
  {
   "cell_type": "code",
   "execution_count": 180,
   "metadata": {},
   "outputs": [
    {
     "name": "stdout",
     "output_type": "stream",
     "text": [
      "[0.2997863153959915, 1.3246440603064606, 2.5023606941851417, 3.8787395235697355, 5.047018928519808, 6.151710700174328, 6.873574617557306, 7.503598209754925, 8.039944500023067, 8.424871624527905, 8.676045848140296, 8.778507848565717, 8.81338700716002]\n"
     ]
    }
   ],
   "source": [
    "print(cum_massMaxList)"
   ]
  },
  {
   "cell_type": "code",
   "execution_count": 181,
   "metadata": {},
   "outputs": [
    {
     "name": "stdout",
     "output_type": "stream",
     "text": [
      "[0.11428004357022611, 0.6271508462713924, 1.193049057183975, 1.8076666567982915, 2.2342205724475894, 2.5888945163417514, 2.776278997391924, 2.846566656738349, 2.837294851481062, 2.810040633625081, 2.7492540891263357, 2.7044707720515944, 2.668448863856687]\n"
     ]
    }
   ],
   "source": [
    "print(cum_massMinList)"
   ]
  },
  {
   "cell_type": "code",
   "execution_count": 182,
   "metadata": {},
   "outputs": [
    {
     "name": "stdout",
     "output_type": "stream",
     "text": [
      "[0.17010984932512646, 0.8598584642900113, 1.6854049259817743, 2.6016336658345285, 3.303622562809629, 3.9768474179380675, 4.3967896030300295, 4.690834278529492, 4.926388095280558, 5.078988590450323, 5.161787957048694, 5.182811025992203, 5.181682426322062]\n"
     ]
    }
   ],
   "source": [
    "print(cum_massIdealList)"
   ]
  },
  {
   "cell_type": "code",
   "execution_count": 183,
   "metadata": {},
   "outputs": [],
   "source": [
    "B,dens,sigma_dens,velo,sigma_velo,ang,sigma_ang,M,dM,R,dR,b,db,T,dT,G,mu,mH,EG,EB,EKT,ENT,mu0,kb,sigNT,V,dV = sym.symbols('B dens sigma_dens velo sigma_velo ang sigma_ang M dM R dR b sigma_b T sigma_T G mu m_H E_G E_B E_KT E_NT mu_o k_b sigma_NT V dV')"
   ]
  },
  {
   "cell_type": "code",
   "execution_count": 184,
   "metadata": {},
   "outputs": [
    {
     "data": {
      "text/latex": [
       "$\\displaystyle \\frac{\\sigma_{dens} velo}{2 ang \\sqrt{dens}}$"
      ],
      "text/plain": [
       "sigma_dens*velo/(2*ang*sqrt(dens))"
      ]
     },
     "metadata": {},
     "output_type": "display_data"
    },
    {
     "data": {
      "text/latex": [
       "$\\displaystyle \\frac{\\sqrt{dens} \\sigma_{velo}}{ang}$"
      ],
      "text/plain": [
       "sqrt(dens)*sigma_velo/ang"
      ]
     },
     "metadata": {},
     "output_type": "display_data"
    },
    {
     "data": {
      "text/latex": [
       "$\\displaystyle - \\frac{\\sqrt{dens} \\sigma_{ang} velo}{ang^{2}}$"
      ],
      "text/plain": [
       "-sqrt(dens)*sigma_ang*velo/ang**2"
      ]
     },
     "metadata": {},
     "output_type": "display_data"
    },
    {
     "data": {
      "text/latex": [
       "$\\displaystyle \\sqrt{\\frac{dens \\sigma_{velo}^{2}}{ang^{2}} + \\frac{\\sigma_{dens}^{2} velo^{2}}{4 ang^{2} dens} + \\frac{dens \\sigma_{ang}^{2} velo^{2}}{ang^{4}}}$"
      ],
      "text/plain": [
       "sqrt(dens*sigma_velo**2/ang**2 + sigma_dens**2*velo**2/(4*ang**2*dens) + dens*sigma_ang**2*velo**2/ang**4)"
      ]
     },
     "metadata": {},
     "output_type": "display_data"
    }
   ],
   "source": [
    "B = sym.sqrt(dens)*velo/ang\n",
    "\n",
    "e_dens = sym.diff(B,dens)*sigma_dens\n",
    "e_velo = sym.diff(B,velo)*sigma_velo\n",
    "e_ang = sym.diff(B,ang)*sigma_ang\n",
    "e_B = sym.sqrt(e_dens**2+e_velo**2+e_ang**2)\n",
    "\n",
    "display(e_dens)\n",
    "display(e_velo)\n",
    "display(e_ang)\n",
    "display(e_B)"
   ]
  },
  {
   "cell_type": "code",
   "execution_count": 185,
   "metadata": {},
   "outputs": [],
   "source": [
    "def er_dens(dens,sigDens,velo,sigVelo,ang,sigAng):\n",
    "    return (sigDens*velo)/(2*ang*sym.sqrt(dens))\n",
    "\n",
    "def er_velo(dens,sigDens,velo,sigVelo,ang,sigAng):\n",
    "    return (sym.sqrt(dens)*sigVelo)/ang\n",
    "\n",
    "def er_ang(dens,sigDens,velo,sigVelo,ang,sigAng):\n",
    "    return -1*(sym.sqrt(dens)*sigAng*velo)/ang**2\n",
    "\n",
    "def er_B(dens,sigDens,velo,sigVelo,ang,sigAng):\n",
    "    return sym.sqrt(er_dens(dens,sigDens,velo,sigVelo,ang,sigAng)**2\n",
    "                    +er_velo(dens,sigDens,velo,sigVelo,ang,sigAng)**2\n",
    "                    +er_ang(dens,sigDens,velo,sigVelo,ang,sigAng)**2)"
   ]
  },
  {
   "cell_type": "code",
   "execution_count": 194,
   "metadata": {},
   "outputs": [
    {
     "name": "stdout",
     "output_type": "stream",
     "text": [
      "9.02578494333149\n"
     ]
    }
   ],
   "source": [
    "print(er_B(7.6*10**4,1*10**5,0.4,0.2,11.8,5.9))"
   ]
  },
  {
   "cell_type": "code",
   "execution_count": 187,
   "metadata": {},
   "outputs": [
    {
     "name": "stdout",
     "output_type": "stream",
     "text": [
      "<class 'sympy.core.symbol.Symbol'>\n",
      "<class 'sympy.core.symbol.Symbol'>\n",
      "<class 'sympy.core.symbol.Symbol'>\n"
     ]
    }
   ],
   "source": [
    "print(type(G))\n",
    "print(type(M))\n",
    "print(type(R))"
   ]
  },
  {
   "cell_type": "code",
   "execution_count": 188,
   "metadata": {},
   "outputs": [
    {
     "data": {
      "text/latex": [
       "$\\displaystyle \\sqrt{\\frac{9 G^{2} M^{4} dR^{2}}{25 R^{4}} + \\frac{36 G^{2} M^{2} dM^{2}}{25 R^{2}}}$"
      ],
      "text/plain": [
       "sqrt(9*G**2*M**4*dR**2/(25*R**4) + 36*G**2*M**2*dM**2/(25*R**2))"
      ]
     },
     "metadata": {},
     "output_type": "display_data"
    },
    {
     "data": {
      "text/latex": [
       "$\\displaystyle \\sqrt{\\frac{V^{2} b^{2} \\sigma_{b}^{2}}{\\mu_{o}^{2}} + \\frac{b^{4} dV^{2}}{4 \\mu_{o}^{2}}}$"
      ],
      "text/plain": [
       "sqrt(V**2*b**2*sigma_b**2/mu_o**2 + b**4*dV**2/(4*mu_o**2))"
      ]
     },
     "metadata": {},
     "output_type": "display_data"
    },
    {
     "data": {
      "text/latex": [
       "$\\displaystyle \\frac{3 \\sqrt{\\frac{M^{2} k_{b}^{2} \\sigma_{T}^{2}}{m_{H}^{2} \\mu^{2}}}}{2}$"
      ],
      "text/plain": [
       "3*sqrt(M**2*k_b**2*sigma_T**2/(m_H**2*mu**2))/2"
      ]
     },
     "metadata": {},
     "output_type": "display_data"
    },
    {
     "data": {
      "text/latex": [
       "$\\displaystyle 0.5 \\sqrt{dM^{2} \\sigma_{NT}^{2}}$"
      ],
      "text/plain": [
       "0.5*sqrt(dM**2*sigma_NT**2)"
      ]
     },
     "metadata": {},
     "output_type": "display_data"
    }
   ],
   "source": [
    "EG = 3*(G*M**2)/(R*5)\n",
    "EB = ((b**2)*V)/(2*mu0)\n",
    "EKT = (3*M/2)*(kb*T)/(mu*mH)\n",
    "ENT = (1/2)*M*sigNT\n",
    "\n",
    "EG_mass = sym.diff(EG,M)*dM\n",
    "EG_rad = sym.diff(EG,R)*dR\n",
    "\n",
    "e_EG = sym.sqrt(EG_mass**2+EG_rad**2)\n",
    "\n",
    "\n",
    "EB_mag = sym.diff(EB,b)*db\n",
    "EB_vol = sym.diff(EB,V)*dV\n",
    "\n",
    "e_EB = sym.sqrt(EB_mag**2+EB_vol**2)\n",
    "\n",
    "\n",
    "EKT_temp = sym.diff(EKT,T)*dT\n",
    "\n",
    "e_EKT = sym.sqrt(EKT_temp**2)\n",
    "\n",
    "\n",
    "ENT_mass = sym.diff(ENT,M)*dM\n",
    "\n",
    "e_ENT = sym.sqrt(ENT_mass**2)\n",
    "\n",
    "\n",
    "display(e_EG)\n",
    "display(e_EB)\n",
    "display(e_EKT)\n",
    "display(e_ENT)"
   ]
  },
  {
   "cell_type": "code",
   "execution_count": 196,
   "metadata": {},
   "outputs": [],
   "source": [
    "def er_EG(G,M,dM,R,dR):\n",
    "    return sym.sqrt((9*(G**2)*(M**4)*(dR)**2)/(25*R**4)+(36*(G**2)*(M**2)*(dM**2))/(25*R**2))\n",
    "\n",
    "def er_EB(b,db,V,dV,mu0):\n",
    "    return sym.sqrt(((V**2)*(b**2)*(db**2))/mu0**2 + ((b**4)*(dV**2)/(4*mu0**2)))\n",
    "\n",
    "def er_EKT(M,kb,dT,mu,mH):\n",
    "    return 3*sym.sqrt((M**2)*(kb**2)*(dT**2)/((mH**2)*(mu**2)))/2\n",
    "\n",
    "def er_ENT(dM,sigNT):\n",
    "    return 0.5*sym.sqrt((dM**2)*(sigNT**2))"
   ]
  },
  {
   "cell_type": "code",
   "execution_count": 197,
   "metadata": {},
   "outputs": [
    {
     "name": "stdout",
     "output_type": "stream",
     "text": [
      "2.66425374735833e+35\n"
     ]
    }
   ],
   "source": [
    "magTesla = (90*10**(-6))/10000\n",
    "uncMagTesla = 12*10**(-6)/10000\n",
    "volume = 3.1*10**46\n",
    "dV = 0\n",
    "mu0 = 4*np.pi*10**(-7)\n",
    "print(er_EB(magTesla,uncMagTesla,volume,dV,mu0))"
   ]
  },
  {
   "cell_type": "code",
   "execution_count": 198,
   "metadata": {},
   "outputs": [
    {
     "name": "stdout",
     "output_type": "stream",
     "text": [
      "1.35693102010265e+35\n"
     ]
    }
   ],
   "source": [
    "massMin=2.7*(1.989*10**30)\n",
    "massMax=8.9*(1.989*10**30)\n",
    "massIdeal=5.1*(1.989*10**30)\n",
    "kb = 1.39*10**(-23)\n",
    "mH = 1.67*10**(-27)\n",
    "\n",
    "print(er_EKT(massIdeal,kb,3,2.8,mH))"
   ]
  },
  {
   "cell_type": "code",
   "execution_count": 201,
   "metadata": {},
   "outputs": [
    {
     "name": "stdout",
     "output_type": "stream",
     "text": [
      "1.55142000000000e+34\n"
     ]
    }
   ],
   "source": [
    "print(er_ENT(3.9*(1.989*10**30),4000))"
   ]
  },
  {
   "cell_type": "code",
   "execution_count": 200,
   "metadata": {},
   "outputs": [
    {
     "name": "stdout",
     "output_type": "stream",
     "text": [
      "3.24005357990166e+36\n"
     ]
    }
   ],
   "source": [
    "rad = 1.945*10**15 \n",
    "print(er_EG(6.674*10**(-11),massIdeal,3.9*(1.989*10**30),rad,0))"
   ]
  },
  {
   "cell_type": "code",
   "execution_count": 193,
   "metadata": {},
   "outputs": [
    {
     "name": "stdout",
     "output_type": "stream",
     "text": [
      "1.7157284678805055e+52\n",
      "126439.24662071031\n",
      "220648.8813577102\n",
      "66938.42468155253\n"
     ]
    }
   ],
   "source": [
    "\n",
    "\n",
    "\n",
    "mH = 1.67*10**(-27)\n",
    "radcm = 1.6*10**17\n",
    "volume = (4*np.pi*radcm**3)/3\n",
    "print(volume)\n",
    "num_dens = massIdeal / (2.8*volume * mH)\n",
    "num_densMax = massMax / (2.8*volume * mH)\n",
    "num_densMin = massMin / (2.8*volume * mH)\n",
    "\n",
    "print(num_dens)\n",
    "print(num_densMax)\n",
    "print(num_densMin)"
   ]
  },
  {
   "cell_type": "code",
   "execution_count": null,
   "metadata": {},
   "outputs": [],
   "source": []
  }
 ],
 "metadata": {
  "kernelspec": {
   "display_name": "Python 3",
   "language": "python",
   "name": "python3"
  },
  "language_info": {
   "codemirror_mode": {
    "name": "ipython",
    "version": 3
   },
   "file_extension": ".py",
   "mimetype": "text/x-python",
   "name": "python",
   "nbconvert_exporter": "python",
   "pygments_lexer": "ipython3",
   "version": "3.7.6"
  }
 },
 "nbformat": 4,
 "nbformat_minor": 4
}
